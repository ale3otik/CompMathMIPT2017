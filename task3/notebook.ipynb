{
 "cells": [
  {
   "cell_type": "code",
   "execution_count": 85,
   "metadata": {
    "collapsed": true
   },
   "outputs": [],
   "source": [
    "import numpy as np\n",
    "import pandas as pd\n",
    "from tqdm import tqdm \n",
    "import matplotlib.pyplot as plt \n",
    "%matplotlib inline "
   ]
  },
  {
   "cell_type": "code",
   "execution_count": 74,
   "metadata": {
    "collapsed": false
   },
   "outputs": [],
   "source": [
    "a = np.array([\n",
    "        [0,0,0,0],\n",
    "        [1/3,0,0,0],\n",
    "        [-1/3,1,0,0],\n",
    "        [1,-1,1,0],\n",
    "    ])\n",
    "b = np.array([1/8 , 3/8, 3/8, 1/8])\n",
    "c = np.array([0,1/3, 2/3, 1])\n",
    "\n",
    "def get_next_U(f, h, t, y):\n",
    "    k1 = f(t, y)\n",
    "    k2 = f(t + c[1]*h, y + h * (a[1][0] * k1 ))\n",
    "    k3 = f(t + c[2]*h, y + h * (a[2][0] * k1 + a[2][1] * k2))\n",
    "    k4 = f(t + c[3]*h, y + h * (a[3][0] * k1 + a[3][1] * k2 + a[3][2] * k2))\n",
    "    k = np.array([k1,k2,k3,k4])\n",
    "    u_next = y + np.sum(h * b * k)\n",
    "    return u_next\n",
    "\n",
    "def solve_rk(f,u0, T, n, max_iter=10):\n",
    "    h = T / n\n",
    "    U_trace = []\n",
    "    for it in tqdm(range(max_iter), position=0):\n",
    "        U_cur = np.zeros(n + 1, dtype=np.float32)\n",
    "        U_cur[0] = u0\n",
    "        for i in range(n):\n",
    "            U_cur[i+1] = get_next_U(f, h, h*(i+1), U_cur[i])\n",
    "        U_trace.append(U_cur)\n",
    "    return U_trace\n",
    "    "
   ]
  },
  {
   "cell_type": "code",
   "execution_count": null,
   "metadata": {
    "collapsed": true
   },
   "outputs": [],
   "source": [
    "def iterate_through_step_decreasing(f, u0, T, n0, niters, max_iter=10):\n",
    "    U_trace = np.array([solve_rk(f,u0,T,n,max_iter)[-1] for n in N_all])\n",
    "    error = np.array([np.max(np.abs(U_trace[-1] - U_trace[i])) for i in range(len(U_trace-1))])\n",
    "    return error, N_all"
   ]
  },
  {
   "cell_type": "code",
   "execution_count": 121,
   "metadata": {
    "collapsed": false
   },
   "outputs": [],
   "source": [
    "def plot_solution(X, approx, expected=None):\n",
    "    if not approx is None:\n",
    "        plt.plot(X,approx,label='approx')\n",
    "    if not expected is None:\n",
    "        plt.plot(X,expected, label='expected')\n",
    "    plt.legend(loc='best')\n",
    "    plt.xlabel('X')\n",
    "    plt.ylabel('Y')\n",
    "    plt.show()\n",
    "def get_error(approx,expected):\n",
    "    error = np.max(np.abs(approx - expected))\n",
    "    x_error = np.argmax(np.abs(approx - expected))\n",
    "    return error,x_error"
   ]
  },
  {
   "cell_type": "code",
   "execution_count": 122,
   "metadata": {
    "collapsed": true
   },
   "outputs": [],
   "source": [
    "def func_1(t, y):\n",
    "    # e^x\n",
    "    return y\n",
    "\n",
    "def sol_1(t, y0):\n",
    "    return np.exp(t)\n",
    "\n",
    "def func_2(t, y):\n",
    "    return 1\n",
    "\n",
    "def sol_2(t, y0):\n",
    "    return t + y0\n",
    "\n",
    "def func_3(t, y):\n",
    "    return -y\n",
    "\n",
    "def sol_3(t,y0):\n",
    "    return np.exp(-t)\n",
    "\n",
    "def very_complex_f(t,y):\n",
    "    return t - y - 1"
   ]
  },
  {
   "cell_type": "code",
   "execution_count": 123,
   "metadata": {
    "collapsed": false
   },
   "outputs": [
    {
     "name": "stderr",
     "output_type": "stream",
     "text": [
      "100%|██████████| 1/1 [00:00<00:00, 1166.70it/s]"
     ]
    },
    {
     "name": "stdout",
     "output_type": "stream",
     "text": [
      "11\n"
     ]
    },
    {
     "name": "stderr",
     "output_type": "stream",
     "text": [
      "\n"
     ]
    },
    {
     "data": {
      "image/png": "[encoded data removed]",
      "text/plain": [
       "<matplotlib.figure.Figure at 0x106fecc88>"
      ]
     },
     "metadata": {},
     "output_type": "display_data"
    },
    {
     "name": "stdout",
     "output_type": "stream",
     "text": [
      "error =  0.217849731445  at x =  2.99573227355\n"
     ]
    }
   ],
   "source": [
    "N = 10\n",
    "X = np.arange(0,np.log(20) + 1e-9,np.log(20)/N)\n",
    "print(len(X))\n",
    "approx = solve_rk(func_1, 1.0, np.log(20), N, max_iter=1)[-1]\n",
    "expected = np.array(sol_1(X,1.0))\n",
    "plot_solution(X, approx, expected)\n",
    "\n",
    "error,xerr = get_error(approx,expected)\n",
    "print('error = ', error, ' at x = ', X[xerr])"
   ]
  },
  {
   "cell_type": "code",
   "execution_count": 124,
   "metadata": {
    "collapsed": false
   },
   "outputs": [
    {
     "name": "stderr",
     "output_type": "stream",
     "text": [
      "100%|██████████| 1/1 [00:00<00:00, 961.56it/s]"
     ]
    },
    {
     "name": "stdout",
     "output_type": "stream",
     "text": [
      "11\n"
     ]
    },
    {
     "name": "stderr",
     "output_type": "stream",
     "text": [
      "\n"
     ]
    },
    {
     "data": {
      "image/png": "[encoded data removed]",
      "text/plain": [
       "<matplotlib.figure.Figure at 0x1163de8d0>"
      ]
     },
     "metadata": {},
     "output_type": "display_data"
    },
    {
     "name": "stdout",
     "output_type": "stream",
     "text": [
      "error =  4.42957067026e-07  at x =  2.99573227355\n"
     ]
    }
   ],
   "source": [
    "N = 10\n",
    "X = np.arange(0,np.log(20) + 1e-9,np.log(20)/N)\n",
    "print(len(X))\n",
    "approx = solve_rk(func_2, 1.0, np.log(20), N, max_iter=1)[-1]\n",
    "expected = np.array(sol_2(X,1.0))\n",
    "plot_solution(X, approx, expected)\n",
    "error,xerr = get_error(approx,expected)\n",
    "print('error = ', error, ' at x = ', X[xerr])"
   ]
  },
  {
   "cell_type": "code",
   "execution_count": 125,
   "metadata": {
    "collapsed": false
   },
   "outputs": [
    {
     "name": "stderr",
     "output_type": "stream",
     "text": [
      "100%|██████████| 1/1 [00:00<00:00, 2092.97it/s]"
     ]
    },
    {
     "name": "stdout",
     "output_type": "stream",
     "text": [
      "11\n"
     ]
    },
    {
     "name": "stderr",
     "output_type": "stream",
     "text": [
      "\n"
     ]
    },
    {
     "data": {
      "image/png": "[encoded data removed]",
      "text/plain": [
       "<matplotlib.figure.Figure at 0x106fd5080>"
      ]
     },
     "metadata": {},
     "output_type": "display_data"
    },
    {
     "name": "stdout",
     "output_type": "stream",
     "text": [
      "error =  0.00132974979195  at x =  0.9\n"
     ]
    }
   ],
   "source": [
    "N = 10\n",
    "T = 3 \n",
    "X = np.arange(0,T + 1e-9,T/N)\n",
    "print(len(X))\n",
    "approx = solve_rk(func_3, 1.0, T, N, max_iter=1)[-1]\n",
    "expected = np.array(sol_3(X,0.0))\n",
    "plot_solution(X, approx, expected)\n",
    "error,xerr = get_error(approx,expected)\n",
    "print('error = ', error, ' at x = ', X[xerr])"
   ]
  },
  {
   "cell_type": "code",
   "execution_count": 116,
   "metadata": {
    "collapsed": false
   },
   "outputs": [
    {
     "name": "stderr",
     "output_type": "stream",
     "text": [
      "100%|██████████| 1/1 [00:00<00:00, 1104.93it/s]"
     ]
    },
    {
     "name": "stdout",
     "output_type": "stream",
     "text": [
      "11\n"
     ]
    },
    {
     "name": "stderr",
     "output_type": "stream",
     "text": [
      "\n"
     ]
    },
    {
     "data": {
      "image/png": "[encoded data removed]",
      "text/plain": [
       "<matplotlib.figure.Figure at 0x11a506208>"
      ]
     },
     "metadata": {},
     "output_type": "display_data"
    }
   ],
   "source": [
    "N = 10\n",
    "T = 3 \n",
    "X = np.arange(0,T + 1e-9,T/N)\n",
    "print(len(X))\n",
    "approx = solve_rk(very_complex_f, 1.0, T, N, max_iter=1)[-1]\n",
    "plot_solution(X, approx)"
   ]
  },
  {
   "cell_type": "code",
   "execution_count": null,
   "metadata": {
    "collapsed": true
   },
   "outputs": [],
   "source": []
  }
 ],
 "metadata": {
  "kernelspec": {
   "display_name": "Python 3",
   "language": "python",
   "name": "python3"
  },
  "language_info": {
   "codemirror_mode": {
    "name": "ipython",
    "version": 3
   },
   "file_extension": ".py",
   "mimetype": "text/x-python",
   "name": "python",
   "nbconvert_exporter": "python",
   "pygments_lexer": "ipython3",
   "version": "3.5.3"
  }
 },
 "nbformat": 4,
 "nbformat_minor": 2
}
